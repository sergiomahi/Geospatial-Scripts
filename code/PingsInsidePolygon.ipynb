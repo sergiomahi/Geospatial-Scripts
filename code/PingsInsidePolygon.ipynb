{
 "cells": [
  {
   "cell_type": "markdown",
   "metadata": {},
   "source": [
    "# Notebook to get pings inside a polygon"
   ]
  },
  {
   "cell_type": "code",
   "execution_count": 1,
   "metadata": {},
   "outputs": [],
   "source": [
    "import pandas as pd\n",
    "import geopandas as gpd\n",
    "import os\n",
    "import time\n",
    "from shapely.geometry import Point\n",
    "from IPython.display import clear_output\n"
   ]
  },
  {
   "cell_type": "markdown",
   "metadata": {},
   "source": [
    "## Set polygon information\n",
    "\n",
    "POLYGON_FILE must be a geojson file."
   ]
  },
  {
   "cell_type": "code",
   "execution_count": 3,
   "metadata": {},
   "outputs": [
    {
     "data": {
      "image/svg+xml": [
       "<svg xmlns=\"http://www.w3.org/2000/svg\" xmlns:xlink=\"http://www.w3.org/1999/xlink\" width=\"100.0\" height=\"100.0\" viewBox=\"39.8055112 21.3393392 0.18583560000000432 0.10183159999999702\" preserveAspectRatio=\"xMinYMin meet\"><g transform=\"matrix(1,0,0,-1,0,42.78051)\"><g><path fill-rule=\"evenodd\" fill=\"#66cc99\" stroke=\"#555555\" stroke-width=\"0.0037167120000000864\" opacity=\"0.6\" d=\"M 39.812394,21.434288 L 39.814447,21.416998 L 39.978491,21.346222 L 39.984464,21.361606 L 39.893679,21.427473 L 39.812394,21.434288 z\" /></g></g></svg>"
      ],
      "text/plain": [
       "<shapely.geometry.multipolygon.MultiPolygon at 0x1cbda0940b8>"
      ]
     },
     "execution_count": 3,
     "metadata": {},
     "output_type": "execute_result"
    }
   ],
   "source": [
    "INPUT_FOLDER = '../input/'\n",
    "POLYGON_FILE = 'elm_ksa.geojson'\n",
    "\n",
    "gdf_polygon = gpd.read_file(INPUT_FOLDER+POLYGON_FILE)\n",
    "\n",
    "crs = {'init': 'epsg:4326'}\n",
    "POLYGON = gdf_polygon.geometry[0]\n",
    "POLYGON"
   ]
  },
  {
   "cell_type": "markdown",
   "metadata": {},
   "source": [
    "## Getting valid pings\n",
    "\n",
    "1. Iterate trough all files inside a folder (lifesight structure), reading all files.\n",
    "2. Generate the geometry (Point) for each file.\n",
    "3. Get pings inside the given polygon.\n",
    "4. Join all pings together.\n"
   ]
  },
  {
   "cell_type": "code",
   "execution_count": 4,
   "metadata": {
    "scrolled": true
   },
   "outputs": [
    {
     "name": "stdout",
     "output_type": "stream",
     "text": [
      "Finished to read files. 1045.112458229065 secs\n",
      "Joining dataframes...\n",
      "Finished to join dataframes. 0.46457648277282715 secs.\n"
     ]
    }
   ],
   "source": [
    "FOLDER = INPUT_FOLDER + 'COUNTRY=SAU/tier=TIER1/'\n",
    "\n",
    "count=0\n",
    "num_files = len(os.listdir(FOLDER))\n",
    "list_dataframes = []\n",
    "\n",
    "start = time.time()\n",
    "print(\"Reading files...\")\n",
    "# Iterate through all small files to join them in one big dataframe.\n",
    "\n",
    "for file in os.listdir(FOLDER):\n",
    "    if file == '_SUCCESS':\n",
    "        continue\n",
    "        \n",
    "    print(\"{}/{}\".format(count, num_files-1))\n",
    "    \n",
    "    df = pd.read_csv(FOLDER+file, compression='gzip', escapechar='\\\\')\n",
    "    \n",
    "    geometry = [Point(xy) for xy in zip(df.longitude, df.latitude)]\n",
    "    gdf = gpd.GeoDataFrame(df,crs=crs, geometry=geometry)\n",
    "    \n",
    "    inside = gdf.geometry.within(POLYGON)\n",
    "    \n",
    "    if inside.any():\n",
    "        list_dataframes.append(gdf[inside])   \n",
    "    \n",
    "    clear_output(wait=True)\n",
    "    count+=1\n",
    "\n",
    "#df.to_csv(\"one_file.csv\")\n",
    "\n",
    "end = time.time()    \n",
    "print(\"Finished to read files. {} secs\".format(end-start))\n",
    "\n",
    "print(\"Joining dataframes...\")\n",
    "start = time.time()\n",
    "df_KSA = pd.concat(list_dataframes)\n",
    "\n",
    "end = time.time()\n",
    "print(\"Finished to join dataframes. {} secs.\".format(end-start))"
   ]
  },
  {
   "cell_type": "markdown",
   "metadata": {},
   "source": [
    "## Save output into a csv file"
   ]
  },
  {
   "cell_type": "code",
   "execution_count": 6,
   "metadata": {},
   "outputs": [],
   "source": [
    "OUTPUT_FOLDER = '../output/'\n",
    "df_KSA.to_csv(OUTPUT_FOLDER + 'points_in_mecca.csv')"
   ]
  },
  {
   "cell_type": "code",
   "execution_count": null,
   "metadata": {},
   "outputs": [],
   "source": []
  }
 ],
 "metadata": {
  "kernelspec": {
   "display_name": "Python 3",
   "language": "python",
   "name": "python3"
  },
  "language_info": {
   "codemirror_mode": {
    "name": "ipython",
    "version": 3
   },
   "file_extension": ".py",
   "mimetype": "text/x-python",
   "name": "python",
   "nbconvert_exporter": "python",
   "pygments_lexer": "ipython3",
   "version": "3.7.3"
  }
 },
 "nbformat": 4,
 "nbformat_minor": 2
}
